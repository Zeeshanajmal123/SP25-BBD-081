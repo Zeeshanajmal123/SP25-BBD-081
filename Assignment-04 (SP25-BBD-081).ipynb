{
 "cells": [
  {
   "cell_type": "code",
   "execution_count": 19,
   "id": "089aa87a",
   "metadata": {},
   "outputs": [
    {
     "name": "stdout",
     "output_type": "stream",
     "text": [
      "0\n",
      "1\n",
      "2\n",
      "3\n",
      "4\n",
      "5\n",
      "6\n",
      "7\n",
      "8\n",
      "9\n",
      "10\n",
      "Loop completed\n"
     ]
    }
   ],
   "source": [
    "num = int(input(\"Enter a number : \"))\n",
    "count = 0\n",
    "while count <= 10:\n",
    "    print(count)\n",
    "    count += 1\n",
    "print(\"Loop completed\")"
   ]
  },
  {
   "cell_type": "code",
   "execution_count": 16,
   "id": "bb5f9901",
   "metadata": {},
   "outputs": [
    {
     "name": "stdout",
     "output_type": "stream",
     "text": [
      "0\n",
      "2\n",
      "4\n",
      "6\n",
      "8\n",
      "10\n",
      "12\n",
      "14\n",
      "16\n",
      "18\n",
      "20\n"
     ]
    }
   ],
   "source": [
    "num = int(input(\"Enter a number : \"))\n",
    "count = 0\n",
    "while count <= 20:\n",
    "    print(count)\n",
    "    count += 2"
   ]
  },
  {
   "cell_type": "code",
   "execution_count": 15,
   "id": "61d07f45-87c1-4d2e-8ac4-645f6398b439",
   "metadata": {},
   "outputs": [
    {
     "name": "stdout",
     "output_type": "stream",
     "text": [
      "0\n",
      "1\n",
      "3\n",
      "6\n",
      "10\n",
      "15\n",
      "21\n",
      "28\n",
      "36\n"
     ]
    }
   ],
   "source": [
    "num = int(input(\"Enter a number : \"))\n",
    "count = 0\n",
    "sum = 0\n",
    "while count <= num:\n",
    "    sum += count\n",
    "    print(sum)\n",
    "    count += 1"
   ]
  },
  {
   "cell_type": "code",
   "execution_count": 6,
   "id": "9f827028-7713-4414-a9e8-e34b6dcc8f37",
   "metadata": {},
   "outputs": [
    {
     "name": "stdout",
     "output_type": "stream",
     "text": [
      "Thank you!\n"
     ]
    }
   ],
   "source": [
    "num = int(input(\"Enter a positive number: \"))  \n",
    "\n",
    "while num <= 0:  \n",
    "    print(\"Invalid input. Please enter a positive number.\")\n",
    "    num = int(input(\"Enter a positive number: \"))  \n",
    "\n",
    "print(\"Thank you!\")  \n",
    "\n"
   ]
  },
  {
   "cell_type": "code",
   "execution_count": 7,
   "id": "3682a7f6-a64a-49c9-a86d-86deef33e862",
   "metadata": {},
   "outputs": [
    {
     "name": "stdout",
     "output_type": "stream",
     "text": [
      "B\n",
      "i\n",
      "g\n"
     ]
    }
   ],
   "source": [
    "text = \"Big\"\n",
    "index = 0\n",
    "\n",
    "while index < len(text):  \n",
    "    print(text[index])  \n",
    "    index += 1  \n",
    "\n"
   ]
  },
  {
   "cell_type": "code",
   "execution_count": 1,
   "id": "a8b48467-a535-4422-8e06-f68c32405308",
   "metadata": {},
   "outputs": [
    {
     "name": "stdout",
     "output_type": "stream",
     "text": [
      "Access granted\n"
     ]
    }
   ],
   "source": [
    "password = 'analytics123'\n",
    "enter_password = input(\"Enter Password\")\n",
    "while enter_password != password:\n",
    "    print(\"Invalid password, Please enter the correct password\")\n",
    "    enter_password = input(\"Enter Password\")\n",
    "print(\"Access granted\")  "
   ]
  },
  {
   "cell_type": "code",
   "execution_count": null,
   "id": "b25ddcd4-1c92-4063-b2ae-492ffda58f11",
   "metadata": {},
   "outputs": [
    {
     "name": "stdout",
     "output_type": "stream",
     "text": [
      "Guess the hidden number:  6\n"
     ]
    },
    {
     "name": "stdout",
     "output_type": "stream",
     "text": [
      "Too low! Try again.\n"
     ]
    },
    {
     "name": "stdout",
     "output_type": "stream",
     "text": [
      "Guess the hidden number:  4\n"
     ]
    },
    {
     "name": "stdout",
     "output_type": "stream",
     "text": [
      "Too low! Try again.\n"
     ]
    },
    {
     "name": "stdout",
     "output_type": "stream",
     "text": [
      "Guess the hidden number:  50\n"
     ]
    },
    {
     "name": "stdout",
     "output_type": "stream",
     "text": [
      "Congratulations! You guessed the correct number!\n"
     ]
    }
   ],
   "source": [
    "hidden_number = 50  \n",
    "guess = 0 \n",
    "\n",
    "while guess != hidden_number:  \n",
    "    guess = int(input(\"Guess the hidden number: \"))  \n",
    "\n",
    "    if guess < hidden_number:\n",
    "        print(\"Too low! Try again.\")\n",
    "    elif guess > hidden_number:\n",
    "        print(\"Too high! Try again.\")\n",
    "    else:\n",
    "        print(\"Congratulations! You guessed the correct number!\") \n",
    "\n",
    "\n",
    "          \n"
   ]
  },
  {
   "cell_type": "code",
   "execution_count": 21,
   "id": "a01f46c6",
   "metadata": {},
   "outputs": [
    {
     "name": "stdout",
     "output_type": "stream",
     "text": [
      "The total number of digits in 78 is 2.\n"
     ]
    }
   ],
   "source": [
    "num = int(input(\"Enter a positive number: \"))  \n",
    "\n",
    "while num <= 0:  \n",
    "    print(\"Invalid input. Please enter a positive number.\")\n",
    "    num = int(input(\"Enter a positive number: \"))  \n",
    "\n",
    "total_digits = len(str(num))\n",
    "print(f\"The total number of digits in {num} is {total_digits}.\")"
   ]
  },
  {
   "cell_type": "code",
   "execution_count": 22,
   "id": "e89fbdda",
   "metadata": {},
   "outputs": [
    {
     "name": "stdout",
     "output_type": "stream",
     "text": [
      "5 x 0 = 0\n",
      "5 x 1 = 5\n",
      "5 x 2 = 10\n",
      "5 x 3 = 15\n",
      "5 x 4 = 20\n",
      "5 x 5 = 25\n",
      "5 x 6 = 30\n",
      "5 x 7 = 35\n",
      "5 x 8 = 40\n",
      "5 x 9 = 45\n",
      "5 x 10 = 50\n"
     ]
    }
   ],
   "source": [
    "number = int(input(\"Enter a number: \"))\n",
    "multiple = 0\n",
    "\n",
    "while multiple <= 10:\n",
    "    print(f\"{number} x {multiple} = {number * multiple}\")\n",
    "    multiple += 1"
   ]
  },
  {
   "cell_type": "code",
   "execution_count": 25,
   "id": "a8f9e672",
   "metadata": {},
   "outputs": [
    {
     "name": "stdout",
     "output_type": "stream",
     "text": [
      "The average of the entered numbers is 5.2.\n"
     ]
    }
   ],
   "source": [
    "total = 0\n",
    "count = 0\n",
    "\n",
    "while True:\n",
    "    num = int(input(\"Enter a number (-1 to stop): \"))\n",
    "    if num == -1:\n",
    "        break\n",
    "    total += num\n",
    "    count += 1\n",
    "\n",
    "if count > 0:\n",
    "    average = total / count\n",
    "    print(f\"The average of the entered numbers is {average}.\")\n",
    "else:\n",
    "    print(\"No numbers were entered.\")"
   ]
  },
  {
   "cell_type": "code",
   "execution_count": null,
   "id": "c2d1a2dd",
   "metadata": {},
   "outputs": [],
   "source": []
  }
 ],
 "metadata": {
  "kernelspec": {
   "display_name": "base",
   "language": "python",
   "name": "python3"
  },
  "language_info": {
   "codemirror_mode": {
    "name": "ipython",
    "version": 3
   },
   "file_extension": ".py",
   "mimetype": "text/x-python",
   "name": "python",
   "nbconvert_exporter": "python",
   "pygments_lexer": "ipython3",
   "version": "3.12.7"
  }
 },
 "nbformat": 4,
 "nbformat_minor": 5
}
