{
  "metadata": {
    "kernelspec": {
      "name": "python",
      "display_name": "Python (Pyodide)",
      "language": "python"
    },
    "language_info": {
      "codemirror_mode": {
        "name": "python",
        "version": 3
      },
      "file_extension": ".py",
      "mimetype": "text/x-python",
      "name": "python",
      "nbconvert_exporter": "python",
      "pygments_lexer": "ipython3",
      "version": "3.8"
    }
  },
  "nbformat_minor": 5,
  "nbformat": 4,
  "cells": [
    {
      "id": "44df5a8f-49ea-4311-8b1e-075b9ff6a516",
      "cell_type": "code",
      "source": "def say_hello():\n    print(f\"Hello, Python learner\")\nsay_hello()",
      "metadata": {
        "trusted": true
      },
      "outputs": [
        {
          "name": "stdout",
          "output_type": "stream",
          "text": "Hello, Python learner\n"
        }
      ],
      "execution_count": 12
    },
    {
      "id": "6260589e-744d-452c-8726-1e21a53667ba",
      "cell_type": "code",
      "source": "def greeting(name):\n    print(f\"Hello, {name}\")\ngreetings(\"Zeeshan\")",
      "metadata": {
        "trusted": true
      },
      "outputs": [
        {
          "name": "stdout",
          "output_type": "stream",
          "text": "Hello, Zeeshan\n"
        }
      ],
      "execution_count": 13
    },
    {
      "id": "f08b8161-c139-4a84-9a60-614f35350b87",
      "cell_type": "code",
      "source": "def describe_pet(animal_type, pet_name):\n    print(f\"I have a {animal_type}, its name is {pet_name}\")\ndescribe_pet(\"dog\", \"Jack\")\ndescribe_pet(animal_type = \"cat\" , pet_name = \"Tom\")\ndescribe_pet(animal_type = \"fish\" , pet_name = \"Goldy\")",
      "metadata": {
        "trusted": true
      },
      "outputs": [
        {
          "name": "stdout",
          "output_type": "stream",
          "text": "I have a dog, its name is Jack\nI have a cat, its name is Tom\nI have a fish, its name is Goldy\n"
        }
      ],
      "execution_count": 28
    },
    {
      "id": "f71738b3-f93d-475e-b2d2-6df4bcc4f511",
      "cell_type": "code",
      "source": "def describe_pet(dog):\n    print(f\"My dogs name is {dog}\")\ndescribe_pet(\"Jack\")",
      "metadata": {
        "trusted": true
      },
      "outputs": [
        {
          "name": "stdout",
          "output_type": "stream",
          "text": "My dogs name is Jack\n"
        }
      ],
      "execution_count": 30
    },
    {
      "id": "bcef3588-6d8f-44e5-abe0-34b03d3e02b4",
      "cell_type": "code",
      "source": "def get_formatted_name(first, last):\n    full_name = (f\"{first} {last}\")\n    return full_name.title()\nprint(get_formatted_name('zeeshan', 'ajmal'))",
      "metadata": {
        "trusted": true
      },
      "outputs": [
        {
          "name": "stdout",
          "output_type": "stream",
          "text": "Zeeshan Ajmal\n"
        }
      ],
      "execution_count": 38
    },
    {
      "id": "443e75ca-6820-41a2-8488-fbc381944be5",
      "cell_type": "code",
      "source": "def get_formatted_name(first, last, middle =' '):\n    if middle:\n        full_name = f\"{first} {middle} {last}\"\n    else:\n        full_name = f\"{first} {last}\"\n    return full_name.title()\nprint(get_formatted_name(\"Muhammad\", \"Ajmal\", \"Zeeshan\"))",
      "metadata": {
        "trusted": true
      },
      "outputs": [
        {
          "name": "stdout",
          "output_type": "stream",
          "text": "Muhammad Zeeshan Ajmal\n"
        }
      ],
      "execution_count": 43
    },
    {
      "id": "a041d82e-561e-4855-b74f-0490d44a3e71",
      "cell_type": "code",
      "source": "def build_person(first, last, age=None):\n    person = {'first_name': first, 'last_name': last}\n    if age is not None:\n        person['age'] = age\n    return person\nprint(build_person(\"Zeeshan\", \"Ajmal\", 30))",
      "metadata": {
        "trusted": true
      },
      "outputs": [
        {
          "name": "stdout",
          "output_type": "stream",
          "text": "{'first_name': 'Zeeshan', 'last_name': 'Ajmal', 'age': 30}\n"
        }
      ],
      "execution_count": 44
    },
    {
      "id": "136f2f2f-c0cd-4aea-9352-405ebfd32a4d",
      "cell_type": "code",
      "source": "def greet_users(usernames):\n    for username in usernames:\n        print(f\"Hello, {username}!\")\ngreet_users(['Zeeshan', 'Ahmad', 'Ibrahim'])",
      "metadata": {
        "trusted": true
      },
      "outputs": [
        {
          "name": "stdout",
          "output_type": "stream",
          "text": "Hello, Zeeshan!\nHello, Ahmad!\nHello, Ibrahim!\n"
        }
      ],
      "execution_count": 45
    },
    {
      "id": "d3602342-f7ec-4271-9a67-53a028c89d9b",
      "cell_type": "code",
      "source": "def make_pizza(*toppings):\n    print(\"Making a pizza with the following toppings:\")\n    for topping in toppings:\n        print(f\"- {topping}\")",
      "metadata": {
        "trusted": true
      },
      "outputs": [],
      "execution_count": 49
    },
    {
      "id": "9cb621c9-b1b5-4b60-aa94-1c260b8212c9",
      "cell_type": "code",
      "source": "def build_profile(first, last, **info):\n    profile = {'first_name': first, 'last_name': last}\n    profile.update(info)\n    return profile\nbuild_profile('Zeeshan', 'Ajmal', location='Pakistan', field='Computer Science')",
      "metadata": {
        "trusted": true
      },
      "outputs": [],
      "execution_count": null
    }
  ]
}