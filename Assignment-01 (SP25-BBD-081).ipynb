{
  "cells": [
    {
      "cell_type": "code",
      "execution_count": 2,
      "id": "c32be623-f3f6-433a-8f0d-8e1937f89024",
      "metadata": {
        "trusted": true
      },
      "outputs": [],
      "source": [
        "# Create a list of your favorite movies\n",
        "my_fav_movies = ['infinity war','endgame','The avengers','john wick']"
      ]
    },
    {
      "cell_type": "code",
      "execution_count": 3,
      "id": "09c31af1-d94e-4f80-acdd-9d2292325eff",
      "metadata": {
        "trusted": true
      },
      "outputs": [
        {
          "name": "stdout",
          "output_type": "stream",
          "text": [
            "infinity war\n",
            "endgame\n",
            "The avengers\n",
            "john wick\n"
          ]
        }
      ],
      "source": [
        "# Iterate over a list and print each movie title\n",
        "for movie in my_fav_movies :\n",
        "    print(movie)"
      ]
    },
    {
      "cell_type": "code",
      "execution_count": 4,
      "id": "3aa7a733-7fd9-4638-8918-1f9d4ba80470",
      "metadata": {
        "trusted": true
      },
      "outputs": [
        {
          "name": "stdout",
          "output_type": "stream",
          "text": [
            "0: infinity war\n",
            "1: endgame\n",
            "2: The avengers\n",
            "3: john wick\n"
          ]
        }
      ],
      "source": [
        "# Modify the loop to print the index of each movie along with its title\n",
        "for i in range(len(my_fav_movies)) :\n",
        "    print(f'{i}: {my_fav_movies[i]}')"
      ]
    },
    {
      "cell_type": "code",
      "execution_count": 8,
      "id": "a65c9f87-1667-4405-8412-cac296f4aa5b",
      "metadata": {
        "trusted": true
      },
      "outputs": [
        {
          "name": "stdout",
          "output_type": "stream",
          "text": [
            "Z\n",
            "e\n",
            "e\n",
            "s\n",
            "h\n",
            "a\n",
            "n\n",
            " \n",
            "A\n",
            "j\n",
            "m\n",
            "a\n",
            "l\n"
          ]
        }
      ],
      "source": [
        "# Create a string variable containing your full name\n",
        "name = 'Zeeshan Ajmal'\n",
        "# Iterate over the string and print each character on a new line\n",
        "for char in name:\n",
        "    print(char)"
      ]
    },
    {
      "cell_type": "code",
      "execution_count": 9,
      "id": "728eedc5-4ecb-4e0e-ac70-c8a33cbfe8a8",
      "metadata": {
        "trusted": true
      },
      "outputs": [
        {
          "name": "stdout",
          "output_type": "stream",
          "text": [
            "The number of vowels in the string is: 5\n"
          ]
        }
      ],
      "source": [
        "# Count the number of vowels in the string\n",
        "vowels = 'aeiouAEIOU'\n",
        "count = 0\n",
        "for char in name:\n",
        "    if char in vowels:\n",
        "        count += 1\n",
        "print(f'The number of vowels in the string is: {count}')"
      ]
    },
    {
      "cell_type": "code",
      "execution_count": null,
      "id": "b9ef26bc",
      "metadata": {},
      "outputs": [],
      "source": []
    }
  ],
  "metadata": {
    "kernelspec": {
      "display_name": "base",
      "language": "python",
      "name": "python3"
    },
    "language_info": {
      "codemirror_mode": {
        "name": "ipython",
        "version": 3
      },
      "file_extension": ".py",
      "mimetype": "text/x-python",
      "name": "python",
      "nbconvert_exporter": "python",
      "pygments_lexer": "ipython3",
      "version": "3.12.7"
    }
  },
  "nbformat": 4,
  "nbformat_minor": 5
}
