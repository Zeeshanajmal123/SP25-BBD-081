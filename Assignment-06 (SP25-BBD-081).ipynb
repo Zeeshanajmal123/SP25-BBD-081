{
 "cells": [
  {
   "cell_type": "code",
   "execution_count": 7,
   "id": "0514d61f-4b41-467b-80ae-d0a096a58b87",
   "metadata": {},
   "outputs": [
    {
     "name": "stdout",
     "output_type": "stream",
     "text": [
      "Zeeshan\n",
      "20\n",
      "Grw\n"
     ]
    }
   ],
   "source": [
    "#Question-01\n",
    "class Person:\n",
    "    def __init__(self, name, age, city):\n",
    "        self.name = name\n",
    "        self.age = age\n",
    "        self. city = city\n",
    "my_intro = Person(\"Zeeshan\", 20, \"Grw\")\n",
    "print(my_intro.name)\n",
    "print(my_intro.age)\n",
    "print(my_intro.city)\n",
    "    "
   ]
  },
  {
   "cell_type": "code",
   "execution_count": 13,
   "id": "66992051-7bbf-4a02-9dad-ec4f06a95145",
   "metadata": {},
   "outputs": [
    {
     "name": "stdout",
     "output_type": "stream",
     "text": [
      "Toyota\n",
      "Crown\n",
      "2020\n"
     ]
    }
   ],
   "source": [
    "#Question-02\n",
    "class Car:\n",
    "    def __init__(self, make, model, year):\n",
    "        self.make = make\n",
    "        self.model = model\n",
    "        self. year = year\n",
    "my_fav_car = Car(\"Toyota\", \"Crown\", 2020)\n",
    "print(my_fav_car.make)\n",
    "print(my_fav_car.model)\n",
    "print(my_fav_car.year)\n",
    "    "
   ]
  },
  {
   "cell_type": "code",
   "execution_count": 35,
   "id": "986a762c-80bb-4a1f-8540-14c1a0fe4026",
   "metadata": {},
   "outputs": [
    {
     "name": "stdout",
     "output_type": "stream",
     "text": [
      "Area: 50.2656\n",
      "Circumference: 25.1328\n"
     ]
    }
   ],
   "source": [
    "#Question-03\n",
    "class Circle:\n",
    "    def __init__(self, radius):\n",
    "        self.radius = radius\n",
    "    def area(self):\n",
    "        return 3.1416 * self.radius **2\n",
    "    def circum(self):\n",
    "        return 2 * 3.1416 * self.radius\n",
    "clac = Circle(4)\n",
    "print('Area:', clac.area())\n",
    "print('Circumference:', clac.circum())"
   ]
  },
  {
   "cell_type": "code",
   "execution_count": 39,
   "id": "f364bf79-72e7-4136-90f7-cb5d5e5e8790",
   "metadata": {},
   "outputs": [
    {
     "name": "stdout",
     "output_type": "stream",
     "text": [
      "Area: 40\n",
      "Perimeter: 26\n"
     ]
    }
   ],
   "source": [
    "#Question-04\n",
    "class Rectangle:\n",
    "    def __init__(self, length, width):\n",
    "        self.length = length\n",
    "        self.width = width\n",
    "    def area(self):\n",
    "        return self.length * self.width\n",
    "    def peri(self):\n",
    "        return 2 * (self.length + self.width)\n",
    "calc = Rectangle(5, 8)\n",
    "print('Area:', calc.area())\n",
    "print('Perimeter:', calc.peri())"
   ]
  },
  {
   "cell_type": "code",
   "execution_count": 10,
   "id": "a5c93e2e-9ace-4fce-919c-7214e97678d5",
   "metadata": {},
   "outputs": [
    {
     "name": "stdout",
     "output_type": "stream",
     "text": [
      "Name: Zeeshan\n",
      "Roll No: 20\n",
      "Total Marks: [12, 13, 17]\n",
      "Average Marks: 14.0\n"
     ]
    }
   ],
   "source": [
    "#Question-05\n",
    "class Students:\n",
    "    def __init__(self, name, roll_no, marks):\n",
    "        self.name = name\n",
    "        self.roll_no = roll_no\n",
    "        self.marks = marks\n",
    "    def average_marks(self):\n",
    "        return sum(self.marks) / len(self.marks)\n",
    "calc = Students(\"Zeeshan\", 20, [12, 13, 17])\n",
    "print ('Name:', calc.name)\n",
    "print ('Roll No:', calc.roll_no)\n",
    "print ('Total Marks:', calc.marks)\n",
    "print('Average Marks:', calc.average_marks())"
   ]
  },
  {
   "cell_type": "code",
   "execution_count": null,
   "id": "f13da2d8-dae8-4701-b4b3-7ed3c065437a",
   "metadata": {},
   "outputs": [],
   "source": [
    "#Question-06\n",
    "class Book:\n",
    "    def __init__(self, title, author, publication_year):\n",
    "        self.title = title\n",
    "        self.author = author\n",
    "        self.publication_year = publication_year\n",
    "\n",
    "# Example usage:\n",
    "book1 = Book(\"The Great Gatsby\", \"F. Scott Fitzgerald\", 1925)\n",
    "print(\"Title:\", book1.title)\n",
    "print(\"Author:\", book1.author)\n",
    "print(\"Publication Year:\", book1.publication_year)\n"
   ]
  },
  {
   "cell_type": "code",
   "execution_count": null,
   "id": "1608434b-d930-4664-9ee4-b9e05712aea5",
   "metadata": {},
   "outputs": [],
   "source": [
    "#Question-07\n",
    "class Employee:\n",
    "    def __init__(self, name, salary, designation):\n",
    "        self.name = name\n",
    "        self.salary = salary\n",
    "        self.designation = designation\n",
    "\n",
    "# Example usage:\n",
    "employee1 = Employee(\"Ali\", 50000, \"Software Engineer\")\n",
    "print(\"Name:\", employee1.name)\n",
    "print(\"Salary:\", employee1.salary)\n",
    "print(\"Designation:\", employee1.designation)\n"
   ]
  },
  {
   "cell_type": "code",
   "execution_count": 15,
   "id": "a4434a16-ba8e-4694-848f-b11f3d09709b",
   "metadata": {},
   "outputs": [
    {
     "name": "stdout",
     "output_type": "stream",
     "text": [
      "$500 deposited. New balance: $1500\n",
      "$300 withdrawn. Remaining balance: $1200\n"
     ]
    }
   ],
   "source": [
    "#Question-08\n",
    "class Bank:\n",
    "    def __init__(self, name, account_number, balance=0):\n",
    "        self.name = name\n",
    "        self.account_number = account_number\n",
    "        self.balance = balance\n",
    "\n",
    "    def deposit(self, amount):\n",
    "        self.balance += amount\n",
    "        print(f\"${amount} deposited. New balance: ${self.balance}\")\n",
    "\n",
    "    def withdraw(self, amount):\n",
    "        if amount > self.balance:\n",
    "            print(\"Insufficient balance.\")\n",
    "        else:\n",
    "            self.balance -= amount\n",
    "            print(f\"${amount} withdrawn. Remaining balance: ${self.balance}\")\n",
    "\n",
    "# Example usage:\n",
    "account1 = Bank(\"Ali\", 123456, 1000)\n",
    "account1.deposit(500)  \n",
    "account1.withdraw(300)  \n"
   ]
  },
  {
   "cell_type": "code",
   "execution_count": 14,
   "id": "cbec6c5d-edb2-44f9-9286-2ab61ad0ce5d",
   "metadata": {},
   "outputs": [
    {
     "name": "stdout",
     "output_type": "stream",
     "text": [
      "Circle Area: 78.53999999999999\n",
      "Rectangle Area: 24\n",
      "Triangle Area: 12.0\n"
     ]
    }
   ],
   "source": [
    "#Question-09\n",
    "class Shape:\n",
    "    def calculate_area(self):\n",
    "        pass  # Placeholder method to be overridden\n",
    "\n",
    "class Circle(Shape):\n",
    "    def __init__(self, radius):\n",
    "        self.radius = radius\n",
    "\n",
    "    def calculate_area(self):\n",
    "        return 3.1416 * self.radius ** 2\n",
    "\n",
    "class Rectangle(Shape):\n",
    "    def __init__(self, width, height):\n",
    "        self.width = width\n",
    "        self.height = height\n",
    "\n",
    "    def calculate_area(self):\n",
    "        return self.width * self.height\n",
    "\n",
    "class Triangle(Shape):\n",
    "    def __init__(self, base, height):\n",
    "        self.base = base\n",
    "        self.height = height\n",
    "\n",
    "    def calculate_area(self):\n",
    "        return 0.5 * self.base * self.height\n",
    "\n",
    "\n",
    "circle = Circle(5)\n",
    "rectangle = Rectangle(4, 6)\n",
    "triangle = Triangle(3, 8)\n",
    "\n",
    "print(\"Circle Area:\", circle.calculate_area())     \n",
    "print(\"Rectangle Area:\", rectangle.calculate_area()) \n",
    "print(\"Triangle Area:\", triangle.calculate_area())   \n"
   ]
  },
  {
   "cell_type": "code",
   "execution_count": 13,
   "id": "d2007871-298b-4b76-8013-f0dad6c3681d",
   "metadata": {},
   "outputs": [
    {
     "name": "stdout",
     "output_type": "stream",
     "text": [
      "Buddy says Woof!\n",
      "Whiskers says Meow!\n",
      "Daisy says Moo!\n"
     ]
    }
   ],
   "source": [
    "#Question-10\n",
    "class Animal:\n",
    "    def __init__(self, name, sound):\n",
    "        self.name = name\n",
    "        self.sound = sound\n",
    "\n",
    "    def make_sound(self):\n",
    "        print(f\"{self.name} says {self.sound}\")\n",
    "\n",
    "class Dog(Animal):\n",
    "    def __init__(self, name):\n",
    "        super().__init__(name, \"Woof!\")\n",
    "\n",
    "class Cat(Animal):\n",
    "    def __init__(self, name):\n",
    "        super().__init__(name, \"Meow!\")\n",
    "\n",
    "class Cow(Animal):\n",
    "    def __init__(self, name):\n",
    "        super().__init__(name, \"Moo!\")\n",
    "\n",
    "\n",
    "dog = Dog(\"Buddy\")\n",
    "cat = Cat(\"Whiskers\")\n",
    "cow = Cow(\"Daisy\")\n",
    "\n",
    "dog.make_sound()  \n",
    "cat.make_sound()  \n",
    "cow.make_sound()  \n"
   ]
  },
  {
   "cell_type": "code",
   "execution_count": null,
   "id": "470048d4-2724-4995-b62a-abbcd718b7b2",
   "metadata": {},
   "outputs": [],
   "source": []
  }
 ],
 "metadata": {
  "kernelspec": {
   "display_name": "Python 3 (ipykernel)",
   "language": "python",
   "name": "python3"
  },
  "language_info": {
   "codemirror_mode": {
    "name": "ipython",
    "version": 3
   },
   "file_extension": ".py",
   "mimetype": "text/x-python",
   "name": "python",
   "nbconvert_exporter": "python",
   "pygments_lexer": "ipython3",
   "version": "3.12.4"
  }
 },
 "nbformat": 4,
 "nbformat_minor": 5
}
